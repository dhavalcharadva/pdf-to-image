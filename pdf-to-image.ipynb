{
 "cells": [
  {
   "cell_type": "code",
   "execution_count": null,
   "metadata": {},
   "outputs": [],
   "source": [
    "import os\n",
    "import pdf2image\n",
    "import time\n",
    "\n",
    "# Replace \"PDF_DIRECTORY\" with the path to your directory containing PDF files\n",
    "PDF_DIRECTORY = r\"/mnt/sda/files\"\n",
    "\n",
    "# Set the DPI (dots per inch) for the output images\n",
    "DPI = 300\n",
    "\n",
    "start = time.time()\n",
    "# Iterate through all the PDF files in the directory\n",
    "for file in os.listdir(PDF_DIRECTORY):\n",
    "    # Check if the file is a PDF file\n",
    "    if file.endswith(\".pdf\") or file.endswith(\".PDF\"):\n",
    "        # Convert the PDF to images\n",
    "        print(\"Converting File: \",file)\n",
    "        pages = pdf2image.convert_from_path(os.path.join(PDF_DIRECTORY, file),grayscale=\"true\",thread_count=8)\n",
    "\n",
    "        # Save the images to a folder with the same name as the PDF file\n",
    "        image_directory = file[:-4]\n",
    "        if not os.path.exists(PDF_DIRECTORY + '/' + image_directory):\n",
    "            os.makedirs(PDF_DIRECTORY + '/' + image_directory)\n",
    "\n",
    "        # Save each image to the directory\n",
    "        for i, page in enumerate(pages):\n",
    "            page.save(os.path.join(PDF_DIRECTORY + '/' + image_directory,\n",
    "                      str(file[:-4])+f\" - page - {i+1}.jpg\"), \"JPEG\")\n",
    "\n",
    "end = time.time()\n",
    "elapsed_time = end - start\n",
    "\n",
    "print('Execution time:', elapsed_time, 'seconds')\n"
   ]
  }
 ],
 "metadata": {
  "kernelspec": {
   "display_name": "policy",
   "language": "python",
   "name": "python3"
  },
  "language_info": {
   "codemirror_mode": {
    "name": "ipython",
    "version": 3
   },
   "file_extension": ".py",
   "mimetype": "text/x-python",
   "name": "python",
   "nbconvert_exporter": "python",
   "pygments_lexer": "ipython3",
   "version": "3.9.16"
  },
  "orig_nbformat": 4
 },
 "nbformat": 4,
 "nbformat_minor": 2
}
