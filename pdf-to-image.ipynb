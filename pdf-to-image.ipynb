{
 "cells": [
  {
   "cell_type": "code",
   "execution_count": 1,
   "metadata": {},
   "outputs": [
    {
     "name": "stdout",
     "output_type": "stream",
     "text": [
      "Converting File:  0ac1161d-f70a-4134-908c-6da1c82c8cae.pdf\n",
      "Converting File:  Aken_Industries_Tri_Pointe_Homes_Austin_COI_56e8fdce-0524-4d6f-85b9-d32c551fcbb3.pdf\n",
      "Converting File:  AIMLfulldetailsnew(B-).pdf\n",
      "Converting File:  edb9d473-4013-47dc-a6de-eb83132a2da8.pdf\n",
      "Converting File:  283bd608-0a5d-455d-8a64-1c91def670c7.pdf\n",
      "Converting File:  0b1aafb1-2fd9-43fe-8a32-ab1c95ac0a3d.pdf\n",
      "Converting File:  COI-Test.pdf\n",
      "Converting File:  Content_Client_20_InsuranceProofDocs_319728_165_20230512_638195148637519136_a0607bbd-2b50-4738-9ff4-7a2621b523fb.pdf\n",
      "Converting File:  581b299612df43df8e9cdcd9b03623ab.pdf\n",
      "Converting File:  000f2512-391a-4445-a86c-f2efc5e52152.pdf\n",
      "Converting File:  308022.pdf\n",
      "Converting File:  Jain_Construction_Pvt_Ltd_MP_-_20_COI_b96d09dd-2438-436c-a55d-b7901917fbfc (1).pdf\n",
      "Converting File:  COI.pdf\n",
      "Execution time: 3.852097749710083 seconds\n"
     ]
    }
   ],
   "source": [
    "import os\n",
    "import pdf2image\n",
    "import time\n",
    "\n",
    "# Replace \"PDF_DIRECTORY\" with the path to your directory containing PDF files\n",
    "PDF_DIRECTORY = r\"/mnt/sda/Projects/Acord/COI Results from 7.21\"\n",
    "\n",
    "OUTPUT_DIRECTORY = \"D:/temp/\"\n",
    "\n",
    "# Set the DPI (dots per inch) for the output images\n",
    "DPI = 300\n",
    "\n",
    "start = time.time()\n",
    "# Iterate through all the PDF files in the directory\n",
    "for file in os.listdir(PDF_DIRECTORY):\n",
    "    # Check if the file is a PDF file\n",
    "    if file.endswith(\".pdf\") or file.endswith(\".PDF\"):\n",
    "        # Convert the PDF to images\n",
    "        print(\"Converting File: \",file)\n",
    "        pages = pdf2image.convert_from_path(os.path.join(PDF_DIRECTORY, file),grayscale=\"true\",thread_count=8)\n",
    "\n",
    "        # Save the images to a folder with the same name as the PDF file\n",
    "        image_directory = file[:-4]\n",
    "        if not os.path.exists(PDF_DIRECTORY + '/' + image_directory):\n",
    "            os.makedirs(PDF_DIRECTORY + '/' + image_directory)\n",
    "\n",
    "        # Save each image to the directory\n",
    "        for i, page in enumerate(pages):\n",
    "            page.save(os.path.join(PDF_DIRECTORY + '/' + image_directory,\n",
    "                      str(file[:-4])+f\" - page - {i+1}.jpg\"), \"JPEG\")\n",
    "\n",
    "end = time.time()\n",
    "elapsed_time = end - start\n",
    "\n",
    "print('Execution time:', elapsed_time, 'seconds')\n"
   ]
  }
 ],
 "metadata": {
  "kernelspec": {
   "display_name": "policy",
   "language": "python",
   "name": "python3"
  },
  "language_info": {
   "codemirror_mode": {
    "name": "ipython",
    "version": 3
   },
   "file_extension": ".py",
   "mimetype": "text/x-python",
   "name": "python",
   "nbconvert_exporter": "python",
   "pygments_lexer": "ipython3",
   "version": "3.9.16"
  },
  "orig_nbformat": 4
 },
 "nbformat": 4,
 "nbformat_minor": 2
}
